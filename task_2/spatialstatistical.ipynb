{
 "cells": [
  {
   "cell_type": "code",
   "execution_count": 45,
   "id": "70ee23a6-23a6-4eff-b4fc-c10e505a3970",
   "metadata": {},
   "outputs": [],
   "source": [
    "import pandas as pd\n",
    "from libpysal.cg import KDTree, RADIUS_EARTH_MILES\n",
    "from libpysal.weights import KNN\n",
    "from spreg import ML_Lag"
   ]
  },
  {
   "cell_type": "code",
   "execution_count": 46,
   "id": "739c0995-528e-4fb3-8843-9ad76d659c3d",
   "metadata": {},
   "outputs": [
    {
     "name": "stderr",
     "output_type": "stream",
     "text": [
      "/home/asus/PycharmProjects/DS/GSA/taska/lib/python3.10/site-packages/libpysal/weights/weights.py:224: UserWarning: The weights matrix is not fully connected: \n",
      " There are 6 disconnected components.\n",
      "  warnings.warn(message)\n",
      "/home/asus/PycharmProjects/DS/GSA/taska/lib/python3.10/site-packages/spreg/ml_lag.py:634: RuntimeWarning: invalid value encountered in log\n",
      "  jacob = np.log(np.linalg.det(a))\n"
     ]
    },
    {
     "name": "stdout",
     "output_type": "stream",
     "text": [
      "REGRESSION RESULTS\n",
      "------------------\n",
      "\n",
      "SUMMARY OF OUTPUT: MAXIMUM LIKELIHOOD SPATIAL LAG (METHOD = FULL)\n",
      "-----------------------------------------------------------------\n",
      "Data set            :     unknown\n",
      "Weights matrix      :     unknown\n",
      "Dependent Variable  :covid_cases_per_cap_jul312020                Number of Observations:        2797\n",
      "Mean dependent var  :      0.0129                Number of Variables   :           4\n",
      "S.D. dependent var  :      0.0089                Degrees of Freedom    :        2793\n",
      "Pseudo R-squared    :      0.7256\n",
      "Spatial Pseudo R-squared:  0.0177\n",
      "Log likelihood      :  10729.6452\n",
      "Sigma-square ML     :      0.0000                Akaike info criterion :  -21451.290\n",
      "S.E of regression   :      0.0048                Schwarz criterion     :  -21427.545\n",
      "\n",
      "------------------------------------------------------------------------------------\n",
      "            Variable     Coefficient       Std.Error     z-Statistic     Probability\n",
      "------------------------------------------------------------------------------------\n",
      "            CONSTANT         0.00157         0.00057         2.77483         0.00552\n",
      "            pctdesom         0.00057         0.00088         0.64860         0.51659\n",
      "            pctdenon         0.00032         0.00060         0.53487         0.59274\n",
      "W_covid_cases_per_cap_jul312020         0.16634         0.00166       100.08195         0.00000\n",
      "------------------------------------------------------------------------------------\n",
      "================================ END OF REPORT =====================================\n"
     ]
    }
   ],
   "source": [
    "url = ('data/colleges_covid.csv')\n",
    "\n",
    "# specify index cols we need only for identification -- not modeling\n",
    "df = pd.read_csv(url, index_col=['unitid', 'instnm'])\n",
    " \n",
    "\n",
    "# we'll `pop` renaming columns so they're no longer in our dataframe\n",
    "x = df.copy().dropna(how='any')\n",
    "\n",
    "# # tree object is the main input to nearest neighbors\n",
    "tree = KDTree(\n",
    "    data=zip(x.pop('longitude'), x.pop('latitude')),\n",
    "    # default is euclidean, but we want to use arc or haversine distance\n",
    "    distance_metric='arc',\n",
    "    radius=RADIUS_EARTH_MILES\n",
    ")\n",
    "nn = KNN(tree, k=5)\n",
    "\n",
    "y = x.pop('covid_cases_per_cap_jul312020')\n",
    "\n",
    "# # spreg only accepts numpy arrays or lists as arguments\n",
    "mod = ML_Lag(\n",
    "    y=y.to_numpy(),\n",
    "    x=x.to_numpy(),\n",
    "    w=nn,\n",
    "    name_y=y.name,\n",
    "    name_x=x.columns.tolist()\n",
    ")\n",
    "\n",
    "# # results\n",
    "print(mod.summary)"
   ]
  },
  {
   "cell_type": "code",
   "execution_count": null,
   "id": "21c7c5a8-2f10-426d-9b5a-26d7ab70ee56",
   "metadata": {},
   "outputs": [],
   "source": []
  }
 ],
 "metadata": {
  "kernelspec": {
   "display_name": "Python 3 (ipykernel)",
   "language": "python",
   "name": "python3"
  },
  "language_info": {
   "codemirror_mode": {
    "name": "ipython",
    "version": 3
   },
   "file_extension": ".py",
   "mimetype": "text/x-python",
   "name": "python",
   "nbconvert_exporter": "python",
   "pygments_lexer": "ipython3",
   "version": "3.10.12"
  }
 },
 "nbformat": 4,
 "nbformat_minor": 5
}
